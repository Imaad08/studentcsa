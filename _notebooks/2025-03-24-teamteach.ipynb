{
  "nbformat": 4,
  "nbformat_minor": 5,
  "metadata": {
    "kernelspec": {
      "display_name": "Python 3",
      "language": "python",
      "name": "python3"
    },
    "language_info": {
      "codemirror_mode": {
        "name": "ipython",
        "version": 3
      },
      "file_extension": ".py",
      "mimetype": "text/x-python",
      "name": "python",
      "nbconvert_exporter": "python",
      "pygments_lexer": "ipython3",
      "version": "3.9"
    }
  },
  "cells": [
    {
      "cell_type": "markdown",
      "metadata": {},
      "source": [
        "# Merge Sort Team Teach\n",
        "\n",
        "Welcome to a fun-filled **Team Teach** on **Merge Sort**! Unlike typical cookie-cutter lessons, we’ll explore Merge Sort as if we’re splitting and rejoining magical cupcakes to get them in the right order (from least sweet to most sweet). \n",
        "\n",
        "By the end of this lesson, you’ll know:\n",
        "- **How** Merge Sort uses a divide-and-conquer strategy.\n",
        "- **Why** its time complexity is `O(n log n)`.\n",
        "- A **Popcorn Hack** to level up your sorting skills.\n",
        "- And some creative **Homework** to practice your new knowledge.\n"
      ]
    },
    {
      "cell_type": "markdown",
      "metadata": {},
      "source": [
        "## Conceptual Overview\n",
        "\n",
        "1. **Divide**: We keep splitting the batch of cupcakes into halves until each sub-batch is a single cupcake (or no cupcakes). A single cupcake doesn’t need sorting!\n",
        "2. **Conquer**: Each of these single-cupcake batches is trivially sorted.\n",
        "3. **Combine**: We start merging the little batches back together. At every merge step, we ensure cupcakes end up in ascending order (least sweet to most sweet). \n",
        "\n",
        "### Time Complexity in a Nutshell\n",
        "- At each level of splitting, we perform `O(n)` work to merge the halves.\n",
        "- There are about `log n` levels of splitting (because we divide in half each time).\n",
        "- Multiply them: `O(n log n)` overall!\n"
      ]
    },
    {
      "cell_type": "markdown",
      "metadata": {},
      "source": [
        "## Merge Sort Implementation\n",
        "Let’s dive into the code. We’ll simulate sorting an array of integers. Think of each integer as a cupcake’s “sweetness level.”"
      ]
    },
    {
      "cell_type": "code",
      "metadata": {},
      "source": [
        "def merge_sort(arr):\n",
        "    \"\"\"\n",
        "    Recursively splits arr into two halves, sorts each half, \n",
        "    and merges them back together.\n",
        "    \"\"\"\n",
        "    if len(arr) <= 1:\n",
        "        # Base case: already sorted if there's 0 or 1 elements\n",
        "        return arr\n",
        "\n",
        "    mid = len(arr) // 2\n",
        "    left_half = merge_sort(arr[:mid])\n",
        "    right_half = merge_sort(arr[mid:])\n",
        "\n",
        "    # Merge the two sorted halves\n",
        "    return merge(left_half, right_half)\n",
        "\n",
        "def merge(left, right):\n",
        "    \"\"\"Merge two sorted lists (left and right) into a single sorted list.\"\"\"\n",
        "    merged = []\n",
        "    i, j = 0, 0\n",
        "\n",
        "    # Compare elements from left and right, picking the smaller one\n",
        "    while i < len(left) and j < len(right):\n",
        "        if left[i] <= right[j]:\n",
        "            merged.append(left[i])\n",
        "            i += 1\n",
        "        else:\n",
        "            merged.append(right[j])\n",
        "            j += 1\n",
        "\n",
        "    # If any elements remain in left or right, add them\n",
        "    merged.extend(left[i:])\n",
        "    merged.extend(right[j:])\n",
        "    return merged\n"
      ],
      "execution_count": null,
      "outputs": []
    },
    {
      "cell_type": "markdown",
      "metadata": {},
      "source": [
        "### Example Usage\n",
        "Let’s test our Merge Sort by creating a list of sweetness levels. Then we’ll print the sorted result."
      ]
    },
    {
      "cell_type": "code",
      "metadata": {},
      "source": [
        "# Example usage:\n",
        "if __name__ == \"__main__\":\n",
        "    import random\n",
        "    \n",
        "    # Generate random sweetness levels\n",
        "    cupcake_sweetness = [random.randint(1, 100) for _ in range(8)]\n",
        "    print(\"Original sweetness levels:\", cupcake_sweetness)\n",
        "    sorted_sweetness = merge_sort(cupcake_sweetness)\n",
        "    print(\"Sorted sweetness levels:\", sorted_sweetness)\n"
      ],
      "execution_count": null,
      "outputs": []
    },
    {
      "cell_type": "markdown",
      "metadata": {},
      "source": [
        "## Popcorn Hack\n",
        "\n",
        "**Popcorn Hack Challenge**: Adapt the `merge_sort` function so that it sorts in **descending order** (from most sweet to least sweet) _without_ reversing the array afterward. In other words, handle the comparison logic in the merge step.\n",
        "\n",
        "Steps to try:\n",
        "1. **Copy** the `merge_sort` and `merge` functions.\n",
        "2. **Adjust** the comparison so that the larger element is chosen first.\n",
        "3. **Test** your updated code on a random list of integers to confirm you get a descending result.\n",
        "\n",
        "> **Hint**: In the `while` loop of `merge()`, switch the condition so that we pick the bigger element first.\n"
      ]
    },
    {
      "cell_type": "markdown",
      "metadata": {},
      "source": [
        "## Homework Hack\n",
        "\n",
        "1. **Written Reflection**: \n",
        "   - Explain how Merge Sort splits data, merges data, and achieves its `O(n log n)` efficiency, in your own words.\n",
        "   \n",
        "2. **Inversion Counter** *(Optional, Extra Challenge)*:\n",
        "   - Modify the merge process to **count** how many times elements from the `right` array are placed before elements of the `left` array. This count is the number of *inversions*, a measure of \"how unsorted\" the list was.\n",
        "   \n",
        "3. **Linked List Sorting** *(Choose if you’re adventurous)*:\n",
        "   - Instead of an array or list, implement a Merge Sort for a singly linked list. This can be done by finding the middle node, splitting the list, and then merging.\n",
        "\n",
        "Show your solutions or answers to these tasks in your own notebook or code environment. Happy sorting!"
      ]
    }
  ]
}
