{
 "cells": [
  {
   "cell_type": "markdown",
   "metadata": {
    "vscode": {
     "languageId": "raw"
    }
   },
   "source": [
    "---\n",
    "layout: post\n",
    "type: collab\n",
    "title: Unit 6.4 - Arrays\n",
    "description: Unit 6 Team Teach - Arrays\n",
    "comments: true\n",
    "permalink: /csa/unit6-p1/unit6-4\n",
    "menu: nav/CSA_Units/csa_unit6_p1.html\n",
    "---\n",
    "\n"
   ]
  },
  {
   "cell_type": "markdown",
   "metadata": {},
   "source": [
    "\n",
    "# Navigation\n",
    "- [Home]({{site.baseurl}}/csa/unit6-p1/)\n",
    "- [6.1: Array]({{site.baseurl}}/csa/unit6-p1/unit6-1)\n",
    "- [6.2: Traversing]({{site.baseurl}}/csa/unit6-p1/unit6-2)\n",
    "- [6.3: Enhanced For Loop for Arrays]({{site.baseurl}}/csa/unit6-p1/unit6-3)\n",
    "- [6.4: Developing Algorithms Using Arrays]({{site.baseurl}}/csa/unit6-p1/unit6-4)\n",
    "\n",
    "By: (J)onathan, (I)an, (T)arun, (S)rijan"
   ]
  },
  {
   "cell_type": "markdown",
   "metadata": {},
   "source": [
    "# 6.4 Developing Algorithms Using Arrays\n",
    "\n",
    "#### Finding Maximum and Minimum of Arrays\n",
    "We've done this in python many times in the past, but in java it will be different.\n",
    "Steps:\n",
    "1. Initialize a variable to store a maximum value\n",
    "2. Iterate through every element in the list\n",
    "    - In python we would use `for x in list` but this isn't possible now, instead we must use an enhanced for loop\n",
    "3. Check if element is greater than max, if so replace\n",
    "4. return element"
   ]
  },
  {
   "cell_type": "code",
   "execution_count": 30,
   "metadata": {
    "vscode": {
     "languageId": "java"
    }
   },
   "outputs": [
    {
     "name": "stdout",
     "output_type": "stream",
     "text": [
      "1.23091283901823E15\n"
     ]
    }
   ],
   "source": [
    "/* function, takes in array of doubles as values */\n",
    "private double findMax(double [] values) {\n",
    "    /* Sets max to first number in the list. Min Value could be the min value */\n",
    "    double max = values[0];\n",
    "\n",
    "    /* enhanced for loop notation */\n",
    "    for (double value : values) {\n",
    "        /* check for max */\n",
    "        if (value > max) {\n",
    "            max = value;\n",
    "        }\n",
    "    }\n",
    "    return max;\n",
    "}\n",
    "\n",
    "/* run on array */\n",
    "double[] nums = {1,2,3,4,5,6,2000, 123.123, 1230912839018230.123901823};\n",
    "System.out.println(findMax(nums));"
   ]
  },
  {
   "cell_type": "markdown",
   "metadata": {},
   "source": [
    "### Popcorn Hack\n",
    "Implement a function to find the minimum of the EVEN INDEXED elements in array of integers. "
   ]
  },
  {
   "cell_type": "code",
   "execution_count": 1,
   "metadata": {
    "vscode": {
     "languageId": "java"
    }
   },
   "outputs": [
    {
     "name": "stdout",
     "output_type": "stream",
     "text": [
      "2.0\n"
     ]
    }
   ],
   "source": [
    "private double findMinEven(int [] values) {\n",
    "    if (values.length == 0) {\n",
    "        throw new IllegalArgumentException(\"Array is empty\");\n",
    "    }\n",
    "\n",
    "    double min = Double.MAX_VALUE;\n",
    "\n",
    "    for (int i = 0; i < values.length; i += 2) {\n",
    "        if (values[i] < min) {\n",
    "            min = values[i];\n",
    "        }\n",
    "    }\n",
    "    return min;\n",
    "}\n",
    "\n",
    "int[] nums = {5, 3, 8, 1, 4, 7, 2, 9};\n",
    "System.out.println(findMinEven(nums)); // Output should be 2"
   ]
  },
  {
   "cell_type": "markdown",
   "metadata": {},
   "source": [
    "Ok wait but i don't want to copy this every time. what happened to python's .max?"
   ]
  },
  {
   "cell_type": "code",
   "execution_count": 2,
   "metadata": {
    "vscode": {
     "languageId": "java"
    }
   },
   "outputs": [
    {
     "name": "stdout",
     "output_type": "stream",
     "text": [
      "2.0\n",
      "2000.0\n"
     ]
    }
   ],
   "source": [
    "import java.util.Arrays;\n",
    "\n",
    "public class ArrayUtils {\n",
    "    public static double findMinEven(int[] values) {\n",
    "        if (values.length == 0) {\n",
    "            throw new IllegalArgumentException(\"Array is empty\");\n",
    "        }\n",
    "\n",
    "        double min = Double.MAX_VALUE;\n",
    "\n",
    "        for (int i = 0; i < values.length; i += 2) {\n",
    "            if (values[i] < min) {\n",
    "                min = values[i];\n",
    "            }\n",
    "        }\n",
    "        return min;\n",
    "    }\n",
    "\n",
    "    public static double findMax(double[] values) {\n",
    "        return Arrays.stream(values).max().getAsDouble();\n",
    "    }\n",
    "}\n",
    "\n",
    "// Usage\n",
    "int[] nums = {5, 3, 8, 1, 4, 7, 2, 9};\n",
    "System.out.println(ArrayUtils.findMinEven(nums)); // Output should be 2\n",
    "\n",
    "double[] numsDouble = {1, 2, 3, 4, 5, 6, 2000};\n",
    "System.out.println(ArrayUtils.findMax(numsDouble)); // Output should be 2000\n"
   ]
  },
  {
   "cell_type": "markdown",
   "metadata": {},
   "source": [
    "## Shifting Arrays\n",
    "Oftentimes we need to shift an array. \n",
    "ex. Shifting an array right two:\n",
    "Original: {\"a\", \"b\", \"c\", \"d\"}\n",
    "Final: {\"d\", \"c\", \"a\", \"b\"}\n",
    "\n",
    "How do we do this?\n",
    "1. Create a new array\n",
    "2. Iterate through each element in the array\n",
    "3. Place in appropriate spoce"
   ]
  },
  {
   "cell_type": "code",
   "execution_count": 40,
   "metadata": {
    "vscode": {
     "languageId": "java"
    }
   },
   "outputs": [
    {
     "name": "stdout",
     "output_type": "stream",
     "text": [
      "3\n",
      "4\n",
      "5\n",
      "6\n",
      "7\n",
      "8\n",
      "9\n",
      "10\n",
      "1\n",
      "2\n"
     ]
    }
   ],
   "source": [
    "int [] numbers = {1,2,3,4,5,6,7,8,9,10};\n",
    "\n",
    "int shift = 8;\n",
    "\n",
    "/* function */\n",
    "private int [] shiftRight(int [] values, int shift) {\n",
    "    /* declare new array */\n",
    "    int [] shifted = new int [values.length];\n",
    "    /* iterate through each array */\n",
    "    for (int index = 0; index < values.length; index++) {\n",
    "        /*\n",
    "         Breakdown:\n",
    "         shifted [new index] = numbers[index] (old value)\n",
    "\n",
    "         WAIT! but i'm adding a value to somewhere in the middle of the array! \n",
    "         we couldn't do that in python but since we specified the type and length of the array, this is possible in java\n",
    "\n",
    "         Calculating the new index:\n",
    "         1. we add the shift to the index\n",
    "         2. handle overflow: we use % to take the modulo operation\n",
    "         */\n",
    "        shifted [Math.abs((index + shift) % numbers.length)] = numbers[index];\n",
    "    }\n",
    "    return shifted;\n",
    "}\n",
    "\n",
    "for ( int value : shiftRight(numbers, shift)) {\n",
    "    System.out.println(value);\n",
    "}"
   ]
  },
  {
   "cell_type": "markdown",
   "metadata": {},
   "source": [
    "Challenge Hack:\n",
    "Create a function that iterates through every X items and shifts *only* those elements Y shift left.\n",
    "\n",
    "Example: ({1, 2, 3, 4, 5, 6}, Y = 1, X = 2)\n",
    "Output: {5, 2, 1, 4, 3, 6}\n",
    "\n",
    "Example: ({1, 2, 3, 4, 5, 6, 7, 8, 9, 10}, Y = 2, X = 3)\n",
    "Output: {10, 2, 3, 1, 5, 6, 4, 8, 9, 7}"
   ]
  },
  {
   "cell_type": "code",
   "execution_count": 4,
   "metadata": {
    "vscode": {
     "languageId": "java"
    }
   },
   "outputs": [
    {
     "name": "stdout",
     "output_type": "stream",
     "text": [
      "3\n",
      "4\n",
      "1\n",
      "2\n",
      "7\n",
      "8\n",
      "5\n",
      "6\n",
      "11\n",
      "12\n",
      "9\n",
      "10\n",
      "15\n",
      "16\n",
      "13\n",
      "14\n",
      "19\n",
      "20\n",
      "17\n",
      "18\n"
     ]
    }
   ],
   "source": [
    "int [] numbers = {1,2,3,4,5,6,7,8,9,10,11,12,13,14,15,16,17,18,19,20};\n",
    "\n",
    "int shift = 2;\n",
    "int space = 4;\n",
    "\n",
    "/* function */\n",
    "private int [] shiftLeft(int [] values, int shift, int space) {\n",
    "    int[] shifted = values.clone(); // Clone the original array to avoid modifying it directly\n",
    "\n",
    "    for (int i = 0; i < values.length; i += space) {\n",
    "        int[] temp = new int[space];\n",
    "        for (int j = 0; j < space; j++) {\n",
    "            temp[j] = values[(i + j) % values.length];\n",
    "        }\n",
    "        for (int j = 0; j < space; j++) {\n",
    "            shifted[(i + j) % values.length] = temp[(j + shift) % space];\n",
    "        }\n",
    "    }\n",
    "    return shifted;\n",
    "}\n",
    "\n",
    "for ( int value : shiftLeft(numbers, shift, space)) {\n",
    "    System.out.println(value);\n",
    "}"
   ]
  }
 ],
 "metadata": {
  "kernelspec": {
   "display_name": "Java",
   "language": "java",
   "name": "java"
  },
  "language_info": {
   "codemirror_mode": "java",
   "file_extension": ".jshell",
   "mimetype": "text/x-java-source",
   "name": "Java",
   "pygments_lexer": "java",
   "version": "17.0.12+8-LTS-286"
  }
 },
 "nbformat": 4,
 "nbformat_minor": 2
}
