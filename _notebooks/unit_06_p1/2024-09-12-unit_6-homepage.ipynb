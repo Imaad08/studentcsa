{
 "cells": [
  {
   "cell_type": "markdown",
   "metadata": {},
   "source": [
    "---\n",
    "layout: post\n",
    "title: Unit 6 Arrays P1 \n",
    "type: ccc\n",
    "toc: True\n",
    "courses: {'csa': {'week': 4}}\n",
    "permalink: /csa/unit6-p1/\n",
    "menu: nav/CSA_Units/csa_unit6_p1.html\n",
    "---\n"
   ]
  },
  {
   "cell_type": "markdown",
   "metadata": {},
   "source": [
    "\n",
    "# Navigation\n",
    "- [Home]({{site.baseurl}}/csa/unit6-p1/)\n",
    "- [6.1: Array]({{site.baseurl}}/csa/unit6-p1/unit6-1)\n",
    "- [6.2: Traversing]({{site.baseurl}}/csa/unit6-p1/unit6-2)\n",
    "- [6.3: Enhanced For Loop for Arrays]({{site.baseurl}}/csa/unit6-p1/unit6-3)\n",
    "- [6.4: Developing Algorithms Using Arrays]({{site.baseurl}}/csa/unit6-p1/unit6-4)"
   ]
  },
  {
   "cell_type": "markdown",
   "metadata": {},
   "source": [
    "## AP Computer Science A - Unit 6 Home Page\n",
    "\n",
    "Welcome to Unit 6! In this unit, we will explore various concepts of **Arrays** in Java, focusing on traversing and manipulating arrays.\n",
    "\n",
    "### Learning Goals:\n",
    "- Understand how to declare, initialize, and traverse arrays\n",
    "- Learn how to manipulate array elements\n",
    "- Practice writing algorithms that use arrays\n",
    "\n",
    "### Key Topics:\n",
    "Topic 6.1 - Array Creation and Access (Tarun)\n",
    "Topic 6.2 - Traversing Array (1D) (Srijan)\n",
    "Topic 6.3 Enhanced for loop for Arrays (Jonathan)\n",
    "Topic 6.4: Developing Algorithms Using Arrays (Ian)"
   ]
  },
  {
   "cell_type": "markdown",
   "metadata": {},
   "source": [
    "# AP Computer Science A - Unit 6 Home Page\n",
    "\n",
    "Welcome to Unit 6! In this unit, we will explore various concepts of **Arrays** in Java, focusing on traversing and manipulating arrays.\n",
    "\n",
    "### Learning Goals:\n",
    "- Understand how to declare, initialize, and traverse arrays\n",
    "- Learn how to manipulate array elements\n",
    "- Practice writing algorithms that use arrays\n",
    "\n",
    "### Key Topics:\n",
    "- Topic 6.1 - Array Creation and Access (Tarun)\n",
    "- Topic 6.2 - Traversing Array (1D) (Srijan)\n",
    "- Topic 6.3 Enhanced for loop for Arrays (Jonathan)\n",
    "- Topic 6.4: Developing Algorithms Using Arrays (Ian)"
   ]
  }
 ],
 "metadata": {
  "kernelspec": {
   "display_name": "java (IJava/j!)",
   "language": "java",
   "name": "jbang-ijava"
  },
  "language_info": {
   "name": "java"
  }
 },
 "nbformat": 4,
 "nbformat_minor": 2
}
