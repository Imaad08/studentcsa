{
 "cells": [
  {
   "cell_type": "markdown",
   "id": "97c15020",
   "metadata": {},
   "source": [
    "---\n",
    "layout: post\n",
    "title: Tablesaw - Java and ML\n",
    "categories: [Java Spring]\n",
    "permalink: /ml/tablesaw\n",
    "menu: /nav/gamifyml.html\n",
    "---"
   ]
  },
  {
   "cell_type": "markdown",
   "id": "a6ab373b",
   "metadata": {
    "vscode": {
     "languageId": "plaintext"
    }
   },
   "source": [
    "# Recursion\n",
    "\n",
    "## Navigation\n",
    "- [Tablesaw]({{site.baseurl}}/ml/tablesaw)\n",
    "- [Weka]({{site.baseurl}}/ml/weka)\n",
    "- [Smile]({{site.baseurl}}/ml/smile)\n",
    "\n",
    "# Teaching Tablesaw Using the Titanic Dataset\n",
    "\n",
    "This guide introduces **Tablesaw** for data prep and cleaning in Java, using the **Titanic dataset** as an example. It's focused on **clear analogies**, **visual thinking**, and **minimal code**.\n",
    "\n",
    "---\n",
    "\n",
    "## Goals\n",
    "\n",
    "- Understand Tablesaw as a Java-based “smart spreadsheet.”\n",
    "- Clean messy data: fill blanks, drop useless columns, encode categories.\n",
    "- Normalize data for modeling.\n",
    "- Convert Tablesaw `Table` to Weka `Instances`.\n",
    "- Sketch model building (Decision Tree, Logistic Regression).\n",
    "\n",
    "---\n",
    "\n",
    "## 1. Tablesaw = Spreadsheet with Superpowers\n",
    "\n",
    "- Think of Tablesaw as a programmable Excel sheet.\n",
    "- Rows = passengers, columns = features.\n",
    "- Lets you filter, transform, and visualize with Java code.\n",
    "\n",
    "---\n",
    "\n",
    "## 2. Titanic Data = Messy Kitchen\n",
    "\n",
    "### Issues:\n",
    "- **Missing values** (e.g., Age) → fill with median.\n",
    "- **Useless columns** (e.g., Name, Ticket) → drop them.\n",
    "- **Text columns** (e.g., Sex, Embarked) → convert to numbers.\n",
    "- **Uneven scales** (e.g., Age vs. Fare) → normalize to [0,1].\n",
    "\n",
    "### Sample Code:\n",
    "```java\n",
    "table.doubleColumn(\"Age\").setMissingTo(table.numberColumn(\"Age\").median());\n",
    "table = table.removeColumns(\"Name\", \"Ticket\", \"Cabin\");\n"
   ]
  },
  {
   "cell_type": "markdown",
   "id": "86ebaff7",
   "metadata": {},
   "source": [
    "3. Cleaned Data Snapshot\n",
    "Pclass\tSex\tAge_norm\tFare_norm\tEmbarked\tSurvived\n",
    "3\t     1\t  0.27\t      0.014\t       0\t       0\n",
    "1\t     0\t  0.47\t      0.143\t       1\t       1\n",
    "\n",
    "Categories: Sex (male=1, female=0), Embarked (S=0, C=1, Q=2)\n",
    "Normalize: (value - min) / (max - min)"
   ]
  },
  {
   "cell_type": "markdown",
   "id": "e67767b9",
   "metadata": {},
   "source": [
    "4. From Tablesaw to Weka\n",
    "Think of this as “packing your data into a suitcase” Weka understands.\n",
    "\n",
    "Steps:\n",
    "Define Attributes (numeric or nominal).\n",
    "\n",
    "Create Instances and set Survived as the class.\n",
    "\n",
    "Loop through rows to add instances.\n",
    "\n",
    "```java\n",
    "Instances data = new Instances(\"Titanic\", attributes, table.rowCount());\n",
    "for (Row row : table) {\n",
    "  double[] vals = {row.getDouble(\"Pclass\"), ..., ...};\n",
    "  data.add(new DenseInstance(1.0, vals));\n",
    "}\n"
   ]
  },
  {
   "cell_type": "markdown",
   "id": "396da5a1",
   "metadata": {},
   "source": [
    "5. Modeling with Weka\n",
    "J48 Tree: Splits based on conditions (e.g., Pclass ≤ 2).\n",
    "\n",
    "Logistic Regression: Combines features into a prediction formula.\n",
    "\n",
    "Cross-validation: Slice data into 10 parts, train/test each.\n",
    "\n",
    "Example Tree Sketch:\n",
    "\n",
    "Pclass ≤ 2?\n",
    " ├── Yes → Sex = female? → Survived\n",
    " └── No  → Fare_norm < 0.05? → Did Not Survive\n"
   ]
  },
  {
   "cell_type": "markdown",
   "id": "ae0375ac",
   "metadata": {},
   "source": [
    "6. Visual Ideas\n",
    "\n",
    "- Histogram of Age before/after filling.\n",
    "\n",
    "- Bar chart: survival by class.\n",
    "\n",
    "- Scatter plot: Age vs. Fare colored by survival.\n",
    "\n"
   ]
  },
  {
   "cell_type": "markdown",
   "id": "9c04d0d2",
   "metadata": {},
   "source": [
    "## Homework - Part 1\n",
    "Look at the Titanic ML code for [Java](https://github.com/Open-Coding-Society/spring/blob/master/src/main/java/com/open/spring/hacks/tablesaw/TitanicML.java) and [Python](https://pages.opencodingsociety.com/csp%20big%20idea%202/2025/02/19/pandas-ml_titanic_IPYNB_2_.html). Where do you see similarities in code flow and structure?\n"
   ]
  }
 ],
 "metadata": {
  "kernelspec": {
   "display_name": "Java",
   "language": "java",
   "name": "java"
  },
  "language_info": {
   "codemirror_mode": "java",
   "file_extension": ".jshell",
   "mimetype": "text/x-java-source",
   "name": "Java",
   "pygments_lexer": "java",
   "version": "17.0.14+7-Ubuntu-122.04.1"
  }
 },
 "nbformat": 4,
 "nbformat_minor": 5
}
