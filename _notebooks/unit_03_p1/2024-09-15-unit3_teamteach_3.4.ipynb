{
 "cells": [
  {
   "cell_type": "raw",
   "metadata": {
    "vscode": {
     "languageId": "raw"
    }
   },
   "source": [
    "---\n",
    "layout: post\n",
    "title: Unit 3 Team Teach - 3.4\n",
    "description: Unit 3 Team Teach\n",
    "comments: true\n",
    "menu: nav/CSA_Units/csa_unit3_p1.html\n",
    "permalink: /csa/unit3-p1/unit3-4\n",
    "author: Alisha Hussain, Anika Bhatnagar, Kayden Le, Sharon Kodali\n",
    "---"
   ]
  },
  {
   "cell_type": "markdown",
   "metadata": {},
   "source": [
    "# Navigation\n",
    "- [Home]({{site.baseurl}}/csa/unit3-p1/intro)\n",
    "- [3.1]({{site.baseurl}}/csa/unit3-p1/unit3-1)\n",
    "- [3.2]({{site.baseurl}}/csa/unit3-p1/unit3-2)\n",
    "- [3.3]({{site.baseurl}}/csa/unit3-p1/unit3-3)\n",
    "- [3.4]({{site.baseurl}}/csa/unit3-p1/unit3-4)\n",
    "- [3.5]({{site.baseurl}}/csa/unit3-p1/unit3-5)\n",
    "- [3.6]({{site.baseurl}}/csa/unit3-p1/unit3-6)\n",
    "- [3.7]({{site.baseurl}}/csa/unit3-p1/unit3-7)\n",
    "- [HW]({{site.baseurl}}/csa/unit3-p1/unit3-8hw)"
   ]
  },
  {
   "cell_type": "markdown",
   "metadata": {},
   "source": [
    "# 3.4 Else If Statements \n",
    "Else If Statements: Used when you have multiple conditions that need to be checked sequentially.\n",
    "\n",
    "Flow of Execution: Each condition is evaluated in the order written. The first true condition's code runs, and the rest are skipped.\n",
    "\n",
    "Structure:\n",
    "\n",
    "- Start with a single if statement.\n",
    "- Follow with as many else if statements as needed.\n",
    "- Optionally end with one else to handle any remaining cases.\n",
    "Key Concept: The order of conditions matters. More specific conditions should come before broader ones to ensure accurate results.\n",
    "\n",
    "<img width=\"734\" alt=\"image\" src=\"https://github.com/user-attachments/assets/d7864258-6f7a-4de1-a6f3-4905dd3eb503\">\n",
    "\n",
    "1. If I was 19 what would it print out? \n",
    "2. If I was 13 what would it print out? \n",
    "3. Create your if statement with one else if condition.\n",
    "\n",
    "\n",
    "1. \"You can register to vote.\" \"You are old enough for a license to drive\"\n",
    "2. Just the age of 13 since there are no else statements for younger ages\n",
    "3. "
   ]
  },
  {
   "cell_type": "code",
   "execution_count": 2,
   "metadata": {
    "vscode": {
     "languageId": "java"
    }
   },
   "outputs": [
    {
     "name": "stdout",
     "output_type": "stream",
     "text": [
      "Current age: 16\n",
      "You are old enough for a license to drive.\n"
     ]
    }
   ],
   "source": [
    "int myAge = 16;\n",
    "System.out.println(\"Current age: \" + myAge);\n",
    "\n",
    "if (myAge >= 18) {\n",
    "    System.out.println(\"You can register to vote.\");\n",
    "    System.out.println(\"You are old enough for a license to drive.\");\n",
    "} else if (myAge >= 16) {\n",
    "    System.out.println(\"You are old enough for a license to drive.\");\n",
    "} else if (myAge >= 15) {\n",
    "    System.out.println(\"You are old enough to learn to drive.\");\n",
    "} else if (myAge == 14) {\n",
    "    System.out.println(\"You are 14.\");\n",
    "} else {\n",
    "    System.out.println(\"You are too young for driving or voting.\");\n",
    "}"
   ]
  }
 ],
 "metadata": {
  "kernelspec": {
   "display_name": "Java",
   "language": "java",
   "name": "java"
  },
  "language_info": {
   "codemirror_mode": "java",
   "file_extension": ".jshell",
   "mimetype": "text/x-java-source",
   "name": "Java",
   "pygments_lexer": "java",
   "version": "17.0.12+8-LTS-286"
  }
 },
 "nbformat": 4,
 "nbformat_minor": 2
}
