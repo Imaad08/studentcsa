{
 "cells": [
  {
   "cell_type": "raw",
   "metadata": {
    "vscode": {
     "languageId": "raw"
    }
   },
   "source": [
    "---\n",
    "layout: post\n",
    "title: Unit 3 Team Teach - 3.2\n",
    "description: Unit 3 Team Teach\n",
    "comments: true\n",
    "menu: nav/CSA_Units/csa_unit3_p1.html\n",
    "permalink: /csa/unit3-p1/unit3-2\n",
    "author: Alisha Hussain, Anika Bhatnagar, Kayden Le, Sharon Kodali\n",
    "---"
   ]
  },
  {
   "cell_type": "markdown",
   "metadata": {},
   "source": [
    "# Navigation\n",
    "- [Home]({{site.baseurl}}/csa/unit3-p1/intro)\n",
    "- [3.1]({{site.baseurl}}/csa/unit3-p1/unit3-1)\n",
    "- [3.2]({{site.baseurl}}/csa/unit3-p1/unit3-2)\n",
    "- [3.3]({{site.baseurl}}/csa/unit3-p1/unit3-3)\n",
    "- [3.4]({{site.baseurl}}/csa/unit3-p1/unit3-4)\n",
    "- [3.5]({{site.baseurl}}/csa/unit3-p1/unit3-5)\n",
    "- [3.6]({{site.baseurl}}/csa/unit3-p1/unit3-6)\n",
    "- [3.7]({{site.baseurl}}/csa/unit3-p1/unit3-7)\n",
    "- [HW]({{site.baseurl}}/csa/unit3-p1/unit3-8hw)"
   ]
  },
  {
   "cell_type": "markdown",
   "metadata": {},
   "source": [
    "# 3.2 If Statements and Control Flow\n",
    "<a id=\"if-statements\"></a>\n",
    "\n",
    "<img width=\"322\" alt=\"Screenshot 2024-09-16 at 8 07 34 AM\" src=\"https://github.com/user-attachments/assets/4409a622-5497-4495-b23c-ad25597e80bf\">\n",
    "<img width=\"319\" alt=\"Screenshot 2024-09-16 at 8 07 41 AM\" src=\"https://github.com/user-attachments/assets/25c381e4-e5c9-47dc-aaa5-d3892d5b8738\">\n"
   ]
  },
  {
   "cell_type": "markdown",
   "metadata": {},
   "source": [
    "### popcorn hack\n",
    "create test cases that do not satisy the condition above. you can copy/paste the code into the new code cell"
   ]
  },
  {
   "cell_type": "code",
   "execution_count": 1,
   "metadata": {
    "vscode": {
     "languageId": "java"
    }
   },
   "outputs": [
    {
     "name": "stdout",
     "output_type": "stream",
     "text": [
      "Test age: 15\n",
      "You cannot start learning to drive yet.\n",
      "Test age: 14\n",
      "You cannot start learning to drive yet.\n"
     ]
    }
   ],
   "source": [
    "public static void main(String[] args) {\n",
    "    int myAge = 16;\n",
    "    System.out.println(\"Current age: \" + myAge);\n",
    "    \n",
    "    if (myAge >= 16) {\n",
    "        System.out.println(\"You can start learning to drive!\");\n",
    "    }\n",
    "\n",
    "    System.out.println(\"On your next birthday, you will be \" + (myAge + 1) + \" years old!\");\n",
    "}\n",
    "\n",
    "//  test cases that do not satisfy the condition\n",
    "int testAge1 = 15;\n",
    "System.out.println(\"Test age: \" + testAge1);\n",
    "if (testAge1 >= 16) {\n",
    "    System.out.println(\"You can start learning to drive!\");\n",
    "} else {\n",
    "    System.out.println(\"You cannot start learning to drive yet.\");\n",
    "}\n",
    "\n",
    "int testAge2 = 14;\n",
    "System.out.println(\"Test age: \" + testAge2);\n",
    "if (testAge2 >= 16) {\n",
    "    System.out.println(\"You can start learning to drive!\");\n",
    "} else {\n",
    "    System.out.println(\"You cannot start learning to drive yet.\");\n",
    "}\n"
   ]
  },
  {
   "cell_type": "markdown",
   "metadata": {},
   "source": [
    "If statements can be used to create chatbots \n",
    "--> Magpie Lab\n",
    "<img width=\"697\" alt=\"Screenshot 2024-09-25 at 2 40 43 AM\" src=\"https://github.com/user-attachments/assets/8af679b4-0f17-46d3-b080-0d6403620d7b\">\n",
    "\n",
    "<img width=\"702\" alt=\"Screenshot 2024-09-25 at 2 40 54 AM\" src=\"https://github.com/user-attachments/assets/13d01b26-6c2c-4e37-bd56-1eb1b18e0217\">\n",
    "\n",
    "- the user’s input affects the flow of the program"
   ]
  },
  {
   "cell_type": "code",
   "execution_count": null,
   "metadata": {
    "vscode": {
     "languageId": "java"
    }
   },
   "outputs": [],
   "source": []
  }
 ],
 "metadata": {
  "kernelspec": {
   "display_name": "Java",
   "language": "java",
   "name": "java"
  },
  "language_info": {
   "codemirror_mode": "java",
   "file_extension": ".jshell",
   "mimetype": "text/x-java-source",
   "name": "Java",
   "pygments_lexer": "java",
   "version": "17.0.12+8-LTS-286"
  }
 },
 "nbformat": 4,
 "nbformat_minor": 2
}
