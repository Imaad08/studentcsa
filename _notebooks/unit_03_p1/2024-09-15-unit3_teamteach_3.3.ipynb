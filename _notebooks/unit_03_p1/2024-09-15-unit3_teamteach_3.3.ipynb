{
 "cells": [
  {
   "cell_type": "raw",
   "metadata": {
    "vscode": {
     "languageId": "raw"
    }
   },
   "source": [
    "---\n",
    "layout: post\n",
    "title: Unit 3 Team Teach - 3.3\n",
    "description: Unit 3 Team Teach\n",
    "comments: true\n",
    "menu: nav/CSA_Units/csa_unit3_p1.html\n",
    "permalink: /csa/unit3-p1/unit3-3\n",
    "author: Alisha Hussain, Anika Bhatnagar, Kayden Le, Sharon Kodali\n",
    "---"
   ]
  },
  {
   "cell_type": "markdown",
   "metadata": {},
   "source": [
    "# Navigation\n",
    "- [Home]({{site.baseurl}}/csa/unit3-p1/intro)\n",
    "- [3.1]({{site.baseurl}}/csa/unit3-p1/unit3-1)\n",
    "- [3.2]({{site.baseurl}}/csa/unit3-p1/unit3-2)\n",
    "- [3.3]({{site.baseurl}}/csa/unit3-p1/unit3-3)\n",
    "- [3.4]({{site.baseurl}}/csa/unit3-p1/unit3-4)\n",
    "- [3.5]({{site.baseurl}}/csa/unit3-p1/unit3-5)\n",
    "- [3.6]({{site.baseurl}}/csa/unit3-p1/unit3-6)\n",
    "- [3.7]({{site.baseurl}}/csa/unit3-p1/unit3-7)\n",
    "- [HW]({{site.baseurl}}/csa/unit3-p1/unit3-8hw)"
   ]
  },
  {
   "cell_type": "markdown",
   "metadata": {},
   "source": [
    "# 3.3 If Else Statements\n",
    "\n",
    "<a id=\"if-else-statements\"></a>\n",
    "## Purpose of Else Statements\n",
    "Else statements: Handles what happens when the if condition is false.\n",
    "Structure of If-Else:\n",
    "- If statement with a condition.\n",
    "- Else statement without a condition.\n",
    "- Both parts have code blocks surrounded by {}.\n",
    "\n"
   ]
  },
  {
   "cell_type": "markdown",
   "metadata": {},
   "source": [
    "# don't forget the brackets "
   ]
  },
  {
   "cell_type": "code",
   "execution_count": null,
   "metadata": {
    "vscode": {
     "languageId": "java"
    }
   },
   "outputs": [],
   "source": [
    "if (x > 10) {\n",
    "\n",
    "        console.log(\"x is greater than 10\");\n",
    "        console.log(\"This code when the condition is true\");\n",
    "    } else {\n",
    "    \n",
    "        console.log(\"x is 10 or less\");\n",
    "        console.log(\"This code runs when the condition is false\");\n",
    "    }\n",
    "    Without brackets:\n",
    "    \n",
    "    if (x > 10)\n",
    "    \n",
    "        console.log(\"x is greater than 10\");\n",
    "        console.log(\"this code will always run\");"
   ]
  },
  {
   "cell_type": "markdown",
   "metadata": {},
   "source": [
    "<img width=\"816\" alt=\"image\" src=\"https://github.com/user-attachments/assets/c6701143-b87f-427b-a206-6cee0660571c\">\n",
    "\n",
    "1. Based on this code, if you were younger than 16 what would it print out?\n",
    "2. Write your own if else statement\n",
    "\n",
    "\n",
    "1. You are not old enough for a license yet\n",
    "2. "
   ]
  },
  {
   "cell_type": "code",
   "execution_count": 1,
   "metadata": {
    "vscode": {
     "languageId": "java"
    }
   },
   "outputs": [
    {
     "name": "stdout",
     "output_type": "stream",
     "text": [
      "Current age: 16\n",
      "You can learn to drive a car.\n",
      "You are not old enough to vote yet.\n"
     ]
    }
   ],
   "source": [
    "int myAge = 16;\n",
    "System.out.println(\"Current age: \" + myAge);\n",
    "if (myAge >= 16) {\n",
    "    System.out.println(\"You can learn to drive a car.\");\n",
    "} else {\n",
    "    System.out.println(\"You are not old enough for a license yet.\");\n",
    "}\n",
    "\n",
    "// Additional if-else statement\n",
    "int votingAge = 18;\n",
    "if (myAge >= votingAge) {\n",
    "    System.out.println(\"You are old enough to vote.\");\n",
    "} else {\n",
    "    System.out.println(\"You are not old enough to vote yet.\");\n",
    "}"
   ]
  }
 ],
 "metadata": {
  "kernelspec": {
   "display_name": "Java",
   "language": "java",
   "name": "java"
  },
  "language_info": {
   "codemirror_mode": "java",
   "file_extension": ".jshell",
   "mimetype": "text/x-java-source",
   "name": "Java",
   "pygments_lexer": "java",
   "version": "17.0.12+8-LTS-286"
  }
 },
 "nbformat": 4,
 "nbformat_minor": 2
}
