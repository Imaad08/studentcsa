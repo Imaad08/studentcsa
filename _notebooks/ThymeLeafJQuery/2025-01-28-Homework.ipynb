{
 "cells": [
  {
   "cell_type": "raw",
   "metadata": {
    "vscode": {
     "languageId": "raw"
    }
   },
   "source": [
    "---\n",
    "layout: post\n",
    "toc: true\n",
    "title: JQuery/Thymeleaf Homework\n",
    "description: Homework for JQuery/Thymeleaf \n",
    "menu: nav/FRQ_teach/jquery-thymeleafp3.html\n",
    "author: Akhil, Tarun, Kayden\n",
    "permalink: /period3/jquery-thymeleaf-homework\n",
    "---"
   ]
  },
  {
   "cell_type": "markdown",
   "metadata": {},
   "source": [
    "# Navigation\n",
    "- [Thymeleaf]({{site.baseurl}}/period3/thymeleaf)\n",
    "- [Jquery]({{site.baseurl}}/period3/jquery)\n",
    "- [HW]({{site.baseurl}}/period3/jquery-thymeleaf-homework)"
   ]
  },
  {
   "cell_type": "markdown",
   "metadata": {},
   "source": [
    "# Question 1: jQuery - Dynamic Content Update\n",
    "\n",
    "Objective:\n",
    "Use jQuery to dynamically update a p element with user input from an input field when a button is clicked."
   ]
  },
  {
   "cell_type": "code",
   "execution_count": null,
   "metadata": {
    "vscode": {
     "languageId": "html"
    }
   },
   "outputs": [],
   "source": [
    "\n",
    "\n",
    "\n",
    "<input type=\"text\" id=\"userInput\" placeholder=\"Enter text here\">\n",
    "<button id=\"updateBtn\">Update Text</button>\n",
    "<p id=\"output\">This text will be updated.</p>\n",
    "\n",
    "<script>\n",
    "    $(document).ready(function(){\n",
    "        $(\"#updateBtn\").click(function(){\n",
    "            var inputText = $(\"#userInput\").val(); // get the value from the input field\n",
    "            $(\"#output\").text(inputText); // update the <p> element with the input value\n",
    "        });\n",
    "    });\n",
    " </script>\n",
    "\n",
    "\n"
   ]
  },
  {
   "cell_type": "markdown",
   "metadata": {
    "vscode": {
     "languageId": "html"
    }
   },
   "source": [
    "<head>\n",
    "    <title>jQuery Dynamic Update</title>\n",
    "    <script src=\"https://code.jquery.com/jquery-3.6.0.min.js\"></script>\n",
    "</head>\n",
    "<body>\n",
    "\n",
    "<script>\n",
    "    $(document).ready(function() {\n",
    "        // TODO: Implement live text update\n",
    "        // TODO: Display character count\n",
    "        // TODO: Show warning if character limit is reached\n",
    "    });\n",
    "</script>"
   ]
  },
  {
   "cell_type": "markdown",
   "metadata": {},
   "source": [
    "# Question 2: Thymeleaf - Displaying a List of Items\n",
    "\n",
    "Objective:\n",
    "Use Thymeleaf to display a list of students stored in a backend Java controller.\n",
    "\n",
    "Info you may need:\n",
    "  - student.getStatus(): Returns True if the student passed, returns False if the student failed\n",
    "  - student.getName(): Returns student name\n",
    "  - student.getGrade(): Returns student grade"
   ]
  },
  {
   "cell_type": "code",
   "execution_count": null,
   "metadata": {
    "vscode": {
     "languageId": "html"
    }
   },
   "outputs": [],
   "source": [
    "<title>Student List</title>\n",
    "<style>\n",
    "    .failed {\n",
    "        color: red;\n",
    "        font-weight: bold;\n",
    "    }\n",
    "</style>\n",
    "\n",
    "<h2>Student List</h2>\n",
    "<table border=\"1\">\n",
    "    <thead>\n",
    "        <tr>\n",
    "            <th>Name</th>\n",
    "            <th>Grade</th>\n",
    "            <th>Status</th>\n",
    "        </tr>\n",
    "    </thead>\n",
    "    <tbody>\n",
    "    <tr th:each=\"student : ${students}\" th:classappend=\"${!student.status} ? 'failed' : ''\">\n",
    "        <td th:text=\"${student.name}\"></td>\n",
    "        <td th:text=\"${student.grade}\"></td>\n",
    "        <td th:text=\"${student.status} ? 'Passed' : 'Failed'\"></td>\n",
    "    </tr>\n",
    "</tbody>\n",
    "</table>"
   ]
  },
  {
   "cell_type": "markdown",
   "metadata": {
    "vscode": {
     "languageId": "html"
    }
   },
   "source": [
    "<title>Student List</title>\n",
    "<style>\n",
    "    .failed {\n",
    "        color: red;\n",
    "        font-weight: bold;\n",
    "    }\n",
    "</style>\n",
    "\n",
    "<h2>Student List</h2>\n",
    "<table border=\"1\">\n",
    "    <thead>\n",
    "        <tr>\n",
    "            <th>Name</th>\n",
    "            <th>Grade</th>\n",
    "            <th>Status</th>\n",
    "        </tr>\n",
    "    </thead>\n",
    "    <tbody>\n",
    "    <tr th:each=\"student : ${students}\" th:classappend=\"${!student.status} ? 'failed' : ''\">\n",
    "        <td th:text=\"${student.name}\"></td>\n",
    "        <td th:text=\"${student.grade}\"></td>\n",
    "        <td th:text=\"${student.status} ? 'Passed' : 'Failed'\"></td>\n",
    "    </tr>\n",
    "</tbody>\n",
    "</table>"
   ]
  },
  {
   "cell_type": "markdown",
   "metadata": {},
   "source": [
    "# Bonus Question:\n",
    "\n",
    "Why is Thymeleaf better than creating a regular table? What are any potential pros and cons of Thymeleaf tables?\n",
    "\n",
    "- Thymeleaf makes table generation dynamic, cleaner, and more secure by integrating directly with backend data. However, it relies on server-side rendering, making it less flexible for real-time client-side updates."
   ]
  },
  {
   "cell_type": "markdown",
   "metadata": {},
   "source": []
  },
  {
   "cell_type": "markdown",
   "metadata": {},
   "source": []
  }
 ],
 "metadata": {
  "kernelspec": {
   "display_name": "venv",
   "language": "python",
   "name": "python3"
  },
  "language_info": {
   "codemirror_mode": {
    "name": "ipython",
    "version": 3
   },
   "file_extension": ".py",
   "mimetype": "text/x-python",
   "name": "python",
   "nbconvert_exporter": "python",
   "pygments_lexer": "ipython3",
   "version": "3.12.5"
  },
  "orig_nbformat": 4
 },
 "nbformat": 4,
 "nbformat_minor": 2
}
