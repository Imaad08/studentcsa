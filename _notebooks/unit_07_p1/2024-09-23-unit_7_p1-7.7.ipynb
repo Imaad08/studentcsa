{
 "cells": [
  {
   "cell_type": "raw",
   "metadata": {
    "vscode": {
     "languageId": "raw"
    }
   },
   "source": [
    "---\n",
    "layout: post\n",
    "toc: true\n",
    "title: 7.7 - Ethical Issues around Data Collection\n",
    "description: Ethical issues around data collection with ArrayLists\n",
    "authors: Aidan Lau, Saathvik Gampa, Sri Surapaneni, Tanav Kambhampati\n",
    "categories: [AP CSA]\n",
    "type: ccc\n",
    "permalink: /csa/unit7-p1/unit7-7\n",
    "menu: nav/CSA_Units/csa_unit7_p1.html\n",
    "---"
   ]
  },
  {
   "cell_type": "markdown",
   "metadata": {},
   "source": [
    "# Navigation\n",
    "- [Home]({{site.baseurl}}/csa/unit7-p1/unit7-homepage)\n",
    "- [7.1]({{site.baseurl}}/csa/unit7-p1/unit7-1)\n",
    "- [7.2]({{site.baseurl}}/csa/unit7-p1/unit7-2)\n",
    "- [7.3]({{site.baseurl}}/csa/unit7-p1/unit7-3)\n",
    "- [7.4]({{site.baseurl}}/csa/unit7-p1/unit7-4)\n",
    "- [7.5]({{site.baseurl}}/csa/unit7-p1/unit7-5)\n",
    "- [7.6]({{site.baseurl}}/csa/unit7-p1/unit7-6)\n",
    "- [7.7]({{site.baseurl}}/csa/unit7-p1/unit7-7)"
   ]
  },
  {
   "cell_type": "markdown",
   "metadata": {},
   "source": [
    "# 7.7: Ethical issues around Data Collection"
   ]
  },
  {
   "cell_type": "markdown",
   "metadata": {},
   "source": [
    "### Learning Objectives:\n",
    "- Explaining the risks of privacy from collecting and storing personal data on computer systems.\n",
    "\n",
    "### Essential Knowledge:\n",
    "- Data Collection: Methods (cookies, tracking, etc.)\n",
    "- Ethical Data Use: Identifying Personal data (Personal Identifiable Information, Sensitive Personal Information)\n",
    "- Security Practices: Data Encryption, Data Anonymization, Data Minimization"
   ]
  },
  {
   "cell_type": "markdown",
   "metadata": {},
   "source": [
    "## Privacy Protection mechanisms\n",
    "- Encryption: Encode data for only authorized users to access.\n",
    "- Anonymization: Remove personal information from data.\n",
    "- Data Minimization: Collect only necessary data.\n",
    "- User Control: Allowing users to control how their data is used\n"
   ]
  },
  {
   "cell_type": "code",
   "execution_count": 4,
   "metadata": {},
   "outputs": [
    {
     "name": "stdout",
     "output_type": "stream",
     "text": [
      "Original Data: mySecretPassword123\n",
      "Hash Code: 1107444891\n",
      "Same Data Hash: 1107444891\n",
      "Modified Data: mySecretPassword124\n",
      "Modified Data Hash: 1107444892\n"
     ]
    }
   ],
   "source": [
    "// Example string data\n",
    "String originalData = \"mySecretPassword123\";\n",
    "\n",
    "// Generate a hash code for the string\n",
    "int hash = originalData.hashCode();\n",
    "\n",
    "// Display the original data and its hash\n",
    "System.out.println(\"Original Data: \" + originalData);\n",
    "System.out.println(\"Hash Code: \" + hash);\n",
    "\n",
    "// Demonstrate that the same string always produces the same hash\n",
    "String sameData = \"mySecretPassword123\";\n",
    "int sameHash = sameData.hashCode();\n",
    "System.out.println(\"Same Data Hash: \" + sameHash);\n",
    "\n",
    "// Demonstrate that a small change in data produces a different hash\n",
    "String modifiedData = \"mySecretPassword124\";\n",
    "int modifiedHash = modifiedData.hashCode();\n",
    "System.out.println(\"Modified Data: \" + modifiedData);\n",
    "System.out.println(\"Modified Data Hash: \" + modifiedHash);"
   ]
  },
  {
   "cell_type": "markdown",
   "metadata": {},
   "source": [
    "### Uses of Hashing\n",
    "- Hashing is used to store passwords securely but it is not enough for large scale industries.\n",
    "- Hashing is used to conceal sensitive information like credit card information but not enough to protect it entirely."
   ]
  },
  {
   "cell_type": "markdown",
   "metadata": {},
   "source": [
    "### Hashing with Salt\n",
    "\n",
    "As we talked about earlier in the hashing section, hashing is a one-way function. This means that once you hash a value, you can't get the original value back. This is useful for storing passwords, but it also means that if two users have the same password, they will have the same hash. This is a problem because if an attacker gets access to the hash, they can use a rainbow table to look up the hash and find the original password.\n",
    "\n",
    "Thus, we use Hasing with Salt which means that even if 2 users have the same password, they will have different hashes because we add a random value to the password before hashing it. This random value is called a salt."
   ]
  },
  {
   "cell_type": "markdown",
   "metadata": {},
   "source": [
    "## Homework"
   ]
  },
  {
   "cell_type": "markdown",
   "metadata": {},
   "source": [
    "### Homework Problem: Exploring Hashing and Privacy Protection (Extra Credit)\n",
    "\n",
    "#### **Problem:**\n",
    "Write a Java program that simulates how hashing works in protecting passwords. You will implement the following tasks:\n",
    "\n",
    "1. **Task 1: Basic Password Hashing**\n",
    "   - Write a program that accepts a user's password input and generates a hash using the **`hashCode()`** method.\n",
    "   - Display the original password and the hash to show how the same input always produces the same hash.\n",
    "\n",
    "2. **Task 2: Salting the Password**\n",
    "   - Enhance the program by generating a random **salt** for the password. Append the salt to the password before hashing, and display both the salt and the hashed password.\n",
    "   - Store the salt separately and demonstrate that the same password with a different salt produces a different hash.\n",
    "\n",
    "3. **Task 3: Verifying the Password**\n",
    "   - Write a method that simulates logging in by taking a password and salt as input, hashing them again, and comparing the result to the previously stored hash.\n",
    "   - If the hash matches, display \"Login Successful\"; otherwise, display \"Login Failed.\"\n",
    "\n",
    "#### **Extra Challenge (Optional):**\n",
    "- Research and use the **`MessageDigest`** class in Java to implement password hashing with a more secure algorithm like **SHA-256**. Modify your program to use this instead of `hashCode()`.\n",
    "\n"
   ]
  },
  {
   "cell_type": "code",
   "execution_count": 3,
   "metadata": {},
   "outputs": [
    {
     "name": "stdout",
     "output_type": "stream",
     "text": [
      "Enter password for basic hashing: Original Password: tanaviscool\n",
      "Hash Code: 889058953\n",
      "Enter password for salting: Salt: Azw9HHFGrwMx4Y7V1H65oA==\n",
      "Salted Hash: -166425407\n",
      "Enter password to verify: Login Successful\n",
      "Enter password for SHA-256 hashing: SHA-256 Hash: /PjiQzIfKR4h5amv2Nq9+aXx9vfw88oqoP+2bCxH1KE=\n"
     ]
    }
   ],
   "source": [
    "import java.security.MessageDigest;\n",
    "import java.security.NoSuchAlgorithmException;\n",
    "import java.security.SecureRandom;\n",
    "import java.util.Base64;\n",
    "import java.util.Scanner;\n",
    "\n",
    "public class PasswordHashing {\n",
    "\n",
    "    // task 1: basic password hashing\n",
    "    public static void basicHashing(String password) {\n",
    "        int hash = password.hashCode();\n",
    "        System.out.println(\"Original Password: \" + password);\n",
    "        System.out.println(\"Hash Code: \" + hash);\n",
    "    }\n",
    "\n",
    "    // task 2: salting the password\n",
    "    public static String generateSalt() {\n",
    "        SecureRandom random = new SecureRandom();\n",
    "        byte[] salt = new byte[16];\n",
    "        random.nextBytes(salt);\n",
    "        return Base64.getEncoder().encodeToString(salt);\n",
    "    }\n",
    "\n",
    "    public static String hashWithSalt(String password, String salt) {\n",
    "        String saltedPassword = password + salt;\n",
    "        int hash = saltedPassword.hashCode();\n",
    "        return Integer.toString(hash);\n",
    "    }\n",
    "\n",
    "    // task 3: verifying the password\n",
    "    public static boolean verifyPassword(String password, String salt, String storedHash) {\n",
    "        String hash = hashWithSalt(password, salt);\n",
    "        return hash.equals(storedHash);\n",
    "    }\n",
    "\n",
    "    // extra challenge: using SHA-256\n",
    "    public static String hashWithSHA256(String password, String salt) throws NoSuchAlgorithmException {\n",
    "        MessageDigest md = MessageDigest.getInstance(\"SHA-256\");\n",
    "        md.update(salt.getBytes());\n",
    "        byte[] hashedPassword = md.digest(password.getBytes());\n",
    "        return Base64.getEncoder().encodeToString(hashedPassword);\n",
    "    }\n",
    "\n",
    "    public static void main(String[] args) throws NoSuchAlgorithmException {\n",
    "        Scanner scanner = new Scanner(System.in);\n",
    "\n",
    "        // task 1\n",
    "        System.out.print(\"Enter password for basic hashing: \");\n",
    "        String password = scanner.nextLine();\n",
    "        basicHashing(password);\n",
    "\n",
    "        // task 2\n",
    "        System.out.print(\"Enter password for salting: \");\n",
    "        password = scanner.nextLine();\n",
    "        String salt = generateSalt();\n",
    "        String saltedHash = hashWithSalt(password, salt);\n",
    "        System.out.println(\"Salt: \" + salt);\n",
    "        System.out.println(\"Salted Hash: \" + saltedHash);\n",
    "\n",
    "        // task 3\n",
    "        System.out.print(\"Enter password to verify: \");\n",
    "        String passwordToVerify = scanner.nextLine();\n",
    "        boolean isVerified = verifyPassword(passwordToVerify, salt, saltedHash);\n",
    "        System.out.println(isVerified ? \"Login Successful\" : \"Login Failed\");\n",
    "\n",
    "        // extra challenge\n",
    "        System.out.print(\"Enter password for SHA-256 hashing: \");\n",
    "        password = scanner.nextLine();\n",
    "        String sha256Hash = hashWithSHA256(password, salt);\n",
    "        System.out.println(\"SHA-256 Hash: \" + sha256Hash);\n",
    "    }\n",
    "}\n",
    "\n",
    "PasswordHashing.main(new String[]{});"
   ]
  }
 ],
 "metadata": {
  "kernelspec": {
   "display_name": "Java",
   "language": "java",
   "name": "java"
  },
  "language_info": {
   "codemirror_mode": "java",
   "file_extension": ".jshell",
   "mimetype": "text/x-java-source",
   "name": "java",
   "pygments_lexer": "java",
   "version": "17.0.12+8-LTS-286"
  }
 },
 "nbformat": 4,
 "nbformat_minor": 2
}
