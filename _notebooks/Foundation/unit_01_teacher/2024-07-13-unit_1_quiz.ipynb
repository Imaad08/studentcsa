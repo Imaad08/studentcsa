{
 "cells": [
  {
   "cell_type": "raw",
   "metadata": {
    "vscode": {
     "languageId": "raw"
    }
   },
   "source": [
    "---\n",
    "layout: post\n",
    "title: Quiz Questions for APCSA Unit 1\n",
    "description: Questions and Code Cells for the Quiz on Unit 1\n",
    "categories: [CSA-Quiz]\n",
    "permalink: /csa/units/quiz1\n",
    "menu: nav/CSA_Units/csa_unit1.html\n",
    "author: Soham Kamat & Aniket Chakradeo\n",
    "---"
   ]
  },
  {
   "cell_type": "markdown",
   "metadata": {},
   "source": [
    "# Navigation\n",
    "- [Home]({{site.baseurl}}/csa/unit1/intro)\n",
    "- [Primitives]({{site.baseurl}}/csa/unit1/primitives)\n",
    "- [Reference Types]({{site.baseurl}}/csa/unit1/reference)\n",
    "- [Stack Heaps]({{site.baseurl}}/csa/unit1/stack_heap)\n",
    "- [Examples]({{site.baseurl}}/unit1lessonexamples)\n",
    "- [Quiz]({{site.baseurl}}/csa/units/quiz1)"
   ]
  },
  {
   "cell_type": "markdown",
   "metadata": {},
   "source": [
    "## Unit 1: Primitive Types"
   ]
  },
  {
   "cell_type": "markdown",
   "metadata": {},
   "source": [
    "### Question 1\n",
    "\n",
    "Which of the following is a valid declaration of a variable of type int in Java?<br>\n",
    "a) int 123variable;<br>\n",
    "b) int variable123;<br>\n",
    "c) int variable#123;<br>\n",
    "d) int variable 123;\n",
    "\n",
    "b) int variable123 is valid because it follows Java's naming rules, starting with a letter and containing no invalid characters or spaces.\n"
   ]
  },
  {
   "cell_type": "code",
   "execution_count": null,
   "metadata": {
    "vscode": {
     "languageId": "java"
    }
   },
   "outputs": [],
   "source": [
    "// Q1 Hack: Define variables according to Java naming conventions.\n",
    "// For instance, is it snake_case, camelCase, or PascalCase?\n",
    "\n",
    "int variable123 = 123;\n",
    "System.out.println(variable123);"
   ]
  },
  {
   "cell_type": "markdown",
   "metadata": {},
   "source": [
    "### Question 2\n",
    "\n",
    "What is the value of the following expression in Java: 5 / 2?<br>\n",
    "a) 2.5<br>\n",
    "b) 3<br>\n",
    "c) 2<br>\n",
    "d) 2.0\n",
    "\n",
    "\n",
    "c) 2 is the value of the expression because in Java, dividing two integers results in integer division, truncating any decimal portion.\n"
   ]
  },
  {
   "cell_type": "code",
   "execution_count": null,
   "metadata": {
    "vscode": {
     "languageId": "java"
    }
   },
   "outputs": [],
   "source": [
    "// Q2.1 Hack: Show in code difference between integer and floating point division.\n",
    "// Q2.2 Hack: Show in code the differnt number types in Java and how they behave.\n",
    "// Behave means definition and assignment."
   ]
  },
  {
   "cell_type": "markdown",
   "metadata": {
    "vscode": {
     "languageId": "raw"
    }
   },
   "source": [
    "### Question 3\n",
    "\n",
    "Which primitive type is used to represent a single character in Java?<br>\n",
    "a) char<br>\n",
    "b) String<br>\n",
    "c) int<br>\n",
    "d) byte\n",
    "\n",
    "\n",
    "a) char is the primitive type used to represent a single character in Java."
   ]
  },
  {
   "cell_type": "code",
   "execution_count": null,
   "metadata": {
    "vscode": {
     "languageId": "java"
    }
   },
   "outputs": [],
   "source": [
    "// Q3.1 Hack: Show in code all the the non-number Java primitive data types and how they behave.\n",
    "// Q3.2 Hack: Show in code the String data type and how it behaves."
   ]
  },
  {
   "cell_type": "markdown",
   "metadata": {},
   "source": [
    "### Question 4\n",
    "\n",
    "Answer the following questions based on the code cell:\n",
    "* a) What kind of types are person1 and person2? \n",
    "* Answer: Both person and person2 are reference types of the Person class.\n",
    "* b) Do person1 and person3 point to the same value in memory?\n",
    "* Answer: No, person and person2 point to different objects in memory since they are created with the new keyword.\n",
    "* c) Is the integer \"number\" stored in the heap or in the stack?\n",
    "* Answer: The integer number is stored in the stack, as it is a primitive type.\n",
    "* d) Is the value that \"person1\" points to stored in the heap or in the stack?\n",
    "* Answer: The value that person points to is stored in the heap, as objects are allocated in the heap memory."
   ]
  },
  {
   "cell_type": "code",
   "execution_count": null,
   "metadata": {
    "vscode": {
     "languageId": "java"
    }
   },
   "outputs": [],
   "source": [
    "public class Person {\n",
    "    String name;\n",
    "    int age;\n",
    "    int height;\n",
    "    String job;\n",
    "\n",
    "    public Person(String name, int age, int height, String job) {\n",
    "        this.name = name;\n",
    "        this.age = age;\n",
    "        this.height = height;\n",
    "        this.job = job;\n",
    "    }\n",
    "}\n",
    "\n",
    "public static void main(String[] args) {\n",
    "    Person person1 = new Person(\"Carl\", 25, 165, \"Construction Worker\");\n",
    "    Person person2 = new Person(\"Adam\", 29, 160, \"Truck Driver\");\n",
    "    Person person3 = person1;\n",
    "    int number = 16;\n",
    "    System.out.println(number);\n",
    "}\n",
    "main(null); // This is required in Jupiter Notebook to run the main method."
   ]
  },
  {
   "cell_type": "markdown",
   "metadata": {},
   "source": [
    "### Question 5 \n",
    "\n",
    "(a) Define primitive types and reference types in Java. The application is for banking, where you need to represent customer information.\n",
    "Primitive Types:\n",
    "- Primitive types are the most basic data types in Java that represent single values. They are not objects and hold their values directly. Java has eight primitive types: int, char, byte, short, long, float, double, and boolean.\n",
    "\n",
    "Reference Types:\n",
    "- Reference types, on the other hand, are used to refer to objects. They hold references (memory addresses) to the actual data, which is stored in the heap memory. Classes, arrays, and interfaces are examples of reference types.\n",
    "\n",
    "(b) Add comments for primitive types and reference types. In terms of memory allocation, discuss concepts like instance, stack, and heap where it adds value.\n",
    "- Stack: Memory for primitive types and references to objects is allocated on the stack. Stack memory is used for method call frames and stores local variables. It is limited in size and has a Last In, First Out (LIFO) structure, meaning that when a method call ends, its local variables are removed from the stack.\n",
    "\n",
    "- Heap: The heap is used for dynamic memory allocation of objects created with the new keyword. It is larger than the stack and can hold multiple objects, allowing for flexible memory usage. Objects stored in the heap remain in memory until they are no longer referenced.\n",
    "\n",
    "- Instance: Each time you create a new instance of a class, memory is allocated on the heap for that object. This includes space for its instance variables.\n",
    "\n",
    "(c) To assist in requirements, here are some required elements:\n",
    "- Create multiple customers from the `public class Account`.\n",
    "- Consider key class variables that a Bank may require: `name`, `balance`, `accountNumber`.\n",
    "- Create a two argument constructor using `name` and `balance`.\n",
    "- Consider in constructor how you will create a unique account number using `static int lastAccountNumber`\n",
    "- Define a method `calculateInterest` that works with getting and setting `double balance` using `private static double interestRate`."
   ]
  },
  {
   "cell_type": "code",
   "execution_count": 2,
   "metadata": {
    "vscode": {
     "languageId": "java"
    }
   },
   "outputs": [
    {
     "name": "stdout",
     "output_type": "stream",
     "text": [
      "Customer: Alice\n",
      "Account Number: 1\n",
      "Balance after interest: 1050.0\n"
     ]
    }
   ],
   "source": [
    "public class Account {\n",
    "    private String name;              \n",
    "    private double balance;            \n",
    "    private static int lastAccountNumber = 0; \n",
    "    private final int accountNumber;   \n",
    "    private static double interestRate; \n",
    "\n",
    "    public Account(String name, double balance) {\n",
    "        this.name = name;             \n",
    "        this.balance = balance;       \n",
    "        this.accountNumber = ++lastAccountNumber; \n",
    "    }\n",
    "\n",
    "    public void calculateInterest() {\n",
    "        double interest = balance * interestRate; \n",
    "        balance += interest; \n",
    "    }\n",
    "\n",
    "    public String getName() {\n",
    "        return name; \n",
    "    }\n",
    "\n",
    "    public double getBalance() {\n",
    "        return balance; \n",
    "    }\n",
    "\n",
    "    public static void setInterestRate(double rate) {\n",
    "        interestRate = rate; \n",
    "    }\n",
    "\n",
    "    public int getAccountNumber() {\n",
    "        return accountNumber; \n",
    "    }\n",
    "}\n",
    "\n",
    "public class BankingApp {\n",
    "    public static void main(String[] args) {\n",
    "        Account.setInterestRate(0.05); \n",
    "        Account customer1 = new Account(\"Alice\", 1000.0);\n",
    "        Account customer2 = new Account(\"Bob\", 1500.0);\n",
    "        customer1.calculateInterest();\n",
    "        \n",
    "        System.out.println(\"Customer: \" + customer1.getName());\n",
    "        System.out.println(\"Account Number: \" + customer1.getAccountNumber());\n",
    "        System.out.println(\"Balance after interest: \" + customer1.getBalance());\n",
    "    }\n",
    "}\n",
    "\n",
    "BankingApp.main(null);\n"
   ]
  }
 ],
 "metadata": {
  "kernelspec": {
   "display_name": "Java",
   "language": "java",
   "name": "java"
  },
  "language_info": {
   "codemirror_mode": "java",
   "file_extension": ".jshell",
   "mimetype": "text/x-java-source",
   "name": "Java",
   "pygments_lexer": "java",
   "version": "17.0.12+8-LTS-286"
  }
 },
 "nbformat": 4,
 "nbformat_minor": 2
}
