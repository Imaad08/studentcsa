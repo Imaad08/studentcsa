{
 "cells": [
  {
   "cell_type": "markdown",
   "metadata": {},
   "source": [
    "---\n",
    "layout: post\n",
    "title: Frontend Dev\n",
    "comments: true\n",
    "---\n"
   ]
  },
  {
   "cell_type": "code",
   "execution_count": 1,
   "metadata": {
    "vscode": {
     "languageId": "html"
    }
   },
   "outputs": [
    {
     "data": {
      "text/html": [
       "\n",
       "<style>\n",
       "    .Text p{\n",
       "        align-items: center;\n",
       "    }\n",
       "    button {\n",
       "        padding: 10px 20px;\n",
       "        background-color: #007bff;\n",
       "        color: #fff;\n",
       "        border: none;\n",
       "        border-radius: 5px;\n",
       "        cursor: pointer;\n",
       "        transition: background-color 0.3s;\n",
       "        margin-left: 40%;\n",
       "      }\n",
       "      button:hover {\n",
       "        background-color: #0056b3;\n",
       "      }\n",
       "</style>\n",
       "<div class=\"Text\">\n",
       "    <p> Check out this test button I made with CSS(It doesn't lead anywhere)\n",
       "    <br>\n",
       "    <button>Test Button</button>\n",
       "</div>\n",
       "\n",
       "<br>\n",
       "<br>\n",
       "\n",
       "<div class=\"Links\">\n",
       "    <a target=\"_blank\" href=\"https://poway.instructure.com/\">Check out Canvas</a>\n",
       "    <br>\n",
       "    <br>\n",
       "    <a target=\"_blank\" href=\"https://github.com/imaad08\">Check out my Github</a>\n",
       "    <br>\n",
       "    <p>You can see all sorts of statistics on my github profile including my top languages</p>\n",
       "</div>\n"
      ],
      "text/plain": [
       "<IPython.core.display.HTML object>"
      ]
     },
     "metadata": {},
     "output_type": "display_data"
    }
   ],
   "source": [
    "%%html\n",
    "\n",
    "<style>\n",
    "    .Text p{\n",
    "        align-items: center;\n",
    "    }\n",
    "    button {\n",
    "        padding: 10px 20px;\n",
    "        background-color: #007bff;\n",
    "        color: #fff;\n",
    "        border: none;\n",
    "        border-radius: 5px;\n",
    "        cursor: pointer;\n",
    "        transition: background-color 0.3s;\n",
    "        margin-left: 40%;\n",
    "      }\n",
    "      button:hover {\n",
    "        background-color: #0056b3;\n",
    "      }\n",
    "</style>\n",
    "<div class=\"Text\">\n",
    "    <p> Check out this test button I made with CSS(It doesn't lead anywhere)\n",
    "    <br>\n",
    "    <button>Test Button</button>\n",
    "</div>\n",
    "\n",
    "<br>\n",
    "<br>\n",
    "\n",
    "<div class=\"Links\">\n",
    "    <a target=\"_blank\" href=\"https://poway.instructure.com/\">Check out Canvas</a>\n",
    "    <br>\n",
    "    <br>\n",
    "    <a target=\"_blank\" href=\"https://github.com/imaad08\">Check out my Github</a>\n",
    "    <br>\n",
    "    <p>You can see all sorts of statistics on my github profile including my top languages</p>\n",
    "</div>\n"
   ]
  }
 ],
 "metadata": {
  "kernelspec": {
   "display_name": "venv",
   "language": "python",
   "name": "python3"
  },
  "language_info": {
   "codemirror_mode": {
    "name": "ipython",
    "version": 3
   },
   "file_extension": ".py",
   "mimetype": "text/x-python",
   "name": "python",
   "nbconvert_exporter": "python",
   "pygments_lexer": "ipython3",
   "version": "3.12.5"
  }
 },
 "nbformat": 4,
 "nbformat_minor": 2
}
