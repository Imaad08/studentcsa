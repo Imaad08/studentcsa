{
 "cells": [
  {
   "cell_type": "markdown",
   "metadata": {},
   "source": [
    "---\n",
    "layout: post\n",
    "type: collab\n",
    "title: Unit 4 - HW Quiz\n",
    "description: Unit 4 Team Teach HW QUIZ\n",
    "comments: true\n",
    "permalink: /csa/unit4-p1/unit4-hwquiz\n",
    "menu: nav/CSA_Units/csa_unit4_p1.html\n",
    "author: hanlun, saaras, arthur, miheer, eshaan, beijan\n",
    "---"
   ]
  },
  {
   "cell_type": "markdown",
   "metadata": {},
   "source": [
    "# Navigation\n",
    "- [Home]({{site.baseurl}}/csa/unit4-p1/)\n",
    "- [4.1]({{site.baseurl}}/csa/unit4-p1/unit4-1)\n",
    "- [4.2]({{site.baseurl}}/csa/unit4-p1/unit4-2)\n",
    "- [4.3]({{site.baseurl}}/csa/unit4-p1/unit4-3)\n",
    "- [4.4]({{site.baseurl}}/csa/unit4-p1/unit4-4)\n",
    "- [HW]({{site.baseurl}}/csa/unit4-p1/unit4-hwquiz)\n",
    "\n",
    "## Unit 4 - Iteration:\n",
    "- This is the homework quiz for unit 4, iterations\n",
    "- 4 multiple choice questions\n",
    "- 2 programming hacks\n",
    "- 1 bonus programming hack (required to get above 0.9)"
   ]
  },
  {
   "cell_type": "markdown",
   "metadata": {},
   "source": [
    "### Question 1:\n",
    "What does the following code print?   \n",
    "\n",
    "A. 5 6 7 8 9   \n",
    "\n",
    "B. 4 5 6 7 8 9 10 11 12   \n",
    "\n",
    "C. 3 5 7 9 11   \n",
    "\n",
    "D. 3 4 5 6 7 8 9 10 11 12   \n",
    "\n",
    "<details>\n",
    "<summary>Click to reveal answer:</summary> \n",
    "  D\n",
    "</details>\n",
    "\n",
    "Explain your answer. (explanation is graded not answer)\n",
    "\n",
    "Answer is D. \n",
    "The loop starts at 3 and runs until 12, printing each value of i followed by a space. Since the loop increments by 1 in each iteration, the output is the numbers from 3 to 12."
   ]
  },
  {
   "cell_type": "code",
   "execution_count": null,
   "metadata": {
    "vscode": {
     "languageId": "java"
    }
   },
   "outputs": [],
   "source": [
    "for (int i = 3; i <= 12; i++) {\n",
    "   System.out.print(i + \" \");\n",
    "}"
   ]
  },
  {
   "cell_type": "markdown",
   "metadata": {},
   "source": [
    "### Bonus:\n",
    "- Explain the difference between using a variable like i inside a for loop, vs. using a variable that exists in the code itself for a while loop\n",
    "\n",
    "- In a for loop, the variable like i is  declared and controlled within the loop structure itself, making it easier to manage the start, condition, and update in one place. In a while loop, the variable must be declared and updated outside the loop, giving you more flexibility but it is more complicated to avoid infinite loops if the condition or update is mishandled."
   ]
  },
  {
   "cell_type": "markdown",
   "metadata": {},
   "source": [
    "### Question 2:\n",
    "How many times does the following method print a \"*\" ?\n",
    "\n",
    "A. 9\n",
    "\n",
    "B. 7\n",
    "\n",
    "C. 8\n",
    "\n",
    "D. 6\n",
    "\n",
    "<details>\n",
    "<summary>Click to reveal answer:</summary> \n",
    "  C\n",
    "</details>\n",
    "\n",
    "Explain your answer. (explanation is graded not answer)\n",
    "\n",
    "- The answer is C. The loop starts at i = 3 and runs while i is less than 11, printing \"*\" in each iteration. Since i takes values from 3 to 10, it prints 8 times."
   ]
  },
  {
   "cell_type": "code",
   "execution_count": null,
   "metadata": {
    "vscode": {
     "languageId": "java"
    }
   },
   "outputs": [],
   "source": [
    "for (int i = 3; i < 11; i++) {\n",
    "   System.out.print(\"*\");\n",
    "}"
   ]
  },
  {
   "cell_type": "markdown",
   "metadata": {},
   "source": [
    "### Question 3:\n",
    "What does the following code print?\n",
    "\n",
    "A. -4 -3 -2 -1 0\n",
    "\n",
    "B. -5 -4 -3 -2 -1\n",
    "\n",
    "C. 5 4 3 2 1\n",
    "\n",
    "<details>\n",
    "<summary>Click to reveal answer:</summary> \n",
    "  A\n",
    "</details>\n",
    "\n",
    "Explain your answer. (explanation is graded not answer)\n",
    "\n",
    "- The answer is A. The loop starts at x = -5, increments x by 1 each time, and prints x until it reaches 0. The output is -4 -3 -2 -1 0."
   ]
  },
  {
   "cell_type": "code",
   "execution_count": null,
   "metadata": {
    "vscode": {
     "languageId": "java"
    }
   },
   "outputs": [],
   "source": [
    "int x = -5;\n",
    "while (x < 0)\n",
    "{\n",
    "   x++;\n",
    "   System.out.print(x + \" \");\n",
    "}"
   ]
  },
  {
   "cell_type": "markdown",
   "metadata": {},
   "source": [
    "### Question 4:\n",
    "What does the following code print?\n",
    "\n",
    "A. 20\n",
    "\n",
    "B. 21\n",
    "\n",
    "C. 25\n",
    "\n",
    "D. 30\n",
    "\n",
    "<details>\n",
    "<summary>Click to reveal answer:</summary> \n",
    "  B\n",
    "</details>\n",
    "\n",
    "Explain your answer. (explanation is graded not answer)\n",
    "\n",
    "- The answer is B. The loop adds 2 * i to sum when i is even and adds 1 when i is odd, iterating from 1 to 5. The final value of sum is 21."
   ]
  },
  {
   "cell_type": "code",
   "execution_count": null,
   "metadata": {
    "vscode": {
     "languageId": "java"
    }
   },
   "outputs": [],
   "source": [
    "int sum = 0;\n",
    "\n",
    "for (int i = 1; i <= 5; i++) {\n",
    "    if (i % 2 == 0) {\n",
    "        sum += i * 2;\n",
    "    } else {\n",
    "        sum += i;\n",
    "    }\n",
    "}\n",
    "\n",
    "System.out.println(sum);"
   ]
  },
  {
   "cell_type": "markdown",
   "metadata": {},
   "source": [
    "## Loops HW Hack"
   ]
  },
  {
   "cell_type": "markdown",
   "metadata": {},
   "source": [
    "### Easy Hack\n",
    "- Use a while loop to find the numbers from 1-50 that are divisible by 3 or 5, then store them into a list (make sure to print it out at the end)\n",
    "- Use a for loop to do the same thing detailed above"
   ]
  },
  {
   "cell_type": "code",
   "execution_count": 3,
   "metadata": {
    "vscode": {
     "languageId": "java"
    }
   },
   "outputs": [
    {
     "name": "stdout",
     "output_type": "stream",
     "text": [
      "Using while loop: [3, 5, 6, 9, 10, 12, 15, 18, 20, 21, 24, 25, 27, 30, 33, 35, 36, 39, 40, 42, 45, 48, 50]\n",
      "Using for loop: [3, 5, 6, 9, 10, 12, 15, 18, 20, 21, 24, 25, 27, 30, 33, 35, 36, 39, 40, 42, 45, 48, 50]\n"
     ]
    }
   ],
   "source": [
    "import java.util.ArrayList;\n",
    "import java.util.List;\n",
    "\n",
    "// Using while loop\n",
    "List<Integer> divisibleBy3Or5While = new ArrayList<>();\n",
    "int i = 1;\n",
    "while (i <= 50) {\n",
    "    if (i % 3 == 0 || i % 5 == 0) {\n",
    "        divisibleBy3Or5While.add(i);\n",
    "    }\n",
    "    i++;\n",
    "}\n",
    "System.out.println(\"Using while loop: \" + divisibleBy3Or5While);\n",
    "\n",
    "// Using for\n",
    "List<Integer> divisibleBy3Or5For = new ArrayList<>();\n",
    "for (int j = 1; j <= 50; j++) {\n",
    "    if (j % 3 == 0 || j % 5 == 0) {\n",
    "        divisibleBy3Or5For.add(j);\n",
    "    }\n",
    "}\n",
    "System.out.println(\"Using for loop: \" + divisibleBy3Or5For);"
   ]
  },
  {
   "cell_type": "markdown",
   "metadata": {},
   "source": [
    "### Harder Hack\n",
    "#### Palindromes are numbers that have the same value when reversed (ex: “123321” or “323”). Create a program that uses a while loop that outputs all palindromes in any given list. \n",
    "\n",
    "Sample Input: \n",
    "test_list = [5672, 235, 5537, 6032, 317, 8460, 1672, 8104, 7770, 4442, 913, 2508, 1116, 9969, 9091, 522, 8756, 9527, 7968, 1520, 4444, 515, 2882, 6556, 595]\n",
    "\n",
    "Sample Output:\n",
    "4444, 515, 2882, 6556, 595"
   ]
  },
  {
   "cell_type": "code",
   "execution_count": 2,
   "metadata": {
    "vscode": {
     "languageId": "java"
    }
   },
   "outputs": [
    {
     "name": "stdout",
     "output_type": "stream",
     "text": [
      "Palindromes: [4444, 515, 2882, 6556, 595]\n"
     ]
    }
   ],
   "source": [
    "import java.util.ArrayList;\n",
    "import java.util.List;\n",
    "\n",
    "public static boolean isPalindrome(int number) {\n",
    "    String str = Integer.toString(number);\n",
    "    int left = 0;\n",
    "    int right = str.length() - 1;\n",
    "\n",
    "    while (left < right) {\n",
    "        if (str.charAt(left) != str.charAt(right)) {\n",
    "            return false;\n",
    "        }\n",
    "        left++;\n",
    "        right--;\n",
    "    }\n",
    "\n",
    "    return true;\n",
    "}\n",
    "\n",
    "List<Integer> testList = List.of(5672, 235, 5537, 6032, 317, 8460, 1672, 8104, 7770, 4442, 913, 2508, 1116, 9969, 9091, 522, 8756, 9527, 7968, 1520, 4444, 515, 2882, 6556, 595);\n",
    "List<Integer> palindromes = new ArrayList<>();\n",
    "\n",
    "int index = 0;\n",
    "while (index < testList.size()) {\n",
    "    int number = testList.get(index);\n",
    "    if (isPalindrome(number)) {\n",
    "        palindromes.add(number);\n",
    "    }\n",
    "    index++;\n",
    "}\n",
    "\n",
    "System.out.println(\"Palindromes: \" + palindromes);\n"
   ]
  },
  {
   "cell_type": "markdown",
   "metadata": {},
   "source": [
    "## Bonus Hack (for above 0.9)\n",
    "### Use a for loop to output a spiral matrix with size n\n",
    "Example:\n",
    "\n",
    "Sample Input: n = 3\n",
    "\n",
    "Output: [[1, 2, 3], [8, 9, 4], [7, 6, 5]]"
   ]
  },
  {
   "cell_type": "code",
   "execution_count": 1,
   "metadata": {
    "vscode": {
     "languageId": "java"
    }
   },
   "outputs": [
    {
     "name": "stdout",
     "output_type": "stream",
     "text": [
      "1 2 3 \n",
      "8 9 4 \n",
      "7 6 5 \n"
     ]
    }
   ],
   "source": [
    "public static int[][] generateSpiralMatrix(int n) {\n",
    "    int[][] matrix = new int[n][n];\n",
    "    int value = 1;\n",
    "    int top = 0, bottom = n - 1, left = 0, right = n - 1;\n",
    "\n",
    "    while (value <= n * n) {\n",
    "        for (int i = left; i <= right; i++) {\n",
    "            matrix[top][i] = value++;\n",
    "        }\n",
    "        top++;\n",
    "        for (int i = top; i <= bottom; i++) {\n",
    "            matrix[i][right] = value++;\n",
    "        }\n",
    "        right--;\n",
    "        for (int i = right; i >= left; i--) {\n",
    "            matrix[bottom][i] = value++;\n",
    "        }\n",
    "        bottom--;\n",
    "        for (int i = bottom; i >= top; i--) {\n",
    "            matrix[i][left] = value++;\n",
    "        }\n",
    "        left++;\n",
    "    }\n",
    "\n",
    "    return matrix;\n",
    "}\n",
    "\n",
    "public static void printMatrix(int[][] matrix) {\n",
    "    for (int[] row : matrix) {\n",
    "        for (int num : row) {\n",
    "            System.out.print(num + \" \");\n",
    "        }\n",
    "        System.out.println();\n",
    "    }\n",
    "}\n",
    "\n",
    "int n = 3;\n",
    "int[][] spiralMatrix = generateSpiralMatrix(n);\n",
    "printMatrix(spiralMatrix);"
   ]
  }
 ],
 "metadata": {
  "kernelspec": {
   "display_name": "Java",
   "language": "java",
   "name": "java"
  },
  "language_info": {
   "codemirror_mode": "java",
   "file_extension": ".jshell",
   "mimetype": "text/x-java-source",
   "name": "Java",
   "pygments_lexer": "java",
   "version": "17.0.12+8-LTS-286"
  }
 },
 "nbformat": 4,
 "nbformat_minor": 2
}
