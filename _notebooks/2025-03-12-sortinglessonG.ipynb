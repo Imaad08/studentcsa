{
 "cells": [
  {
   "cell_type": "raw",
   "metadata": {
    "vscode": {
     "languageId": "raw"
    }
   },
   "source": [
    "---\n",
    "title: Sorting/Searching Algorithms - Sorting Homework\n",
    "description: A homework on sorting algorithms for AP Computer Science students.\n",
    "categories: [Sorting/Searching Algorithms]\n",
    "courses: { csse: {week: 20}, csp: {week: 20}, csa: {week: 20} }\n",
    "permalink: /sortingTTG/sorting/hw/\n",
    "comments: true\n",
    "---"
   ]
  },
  {
   "cell_type": "markdown",
   "metadata": {},
   "source": [
    "# HOMEWORK\n",
    "- Choose one sorting algorithm (Bubble, Selection, Insertion, or Quick Sort)\n",
    "<br><br>\n",
    "- Create a small visualization or step-by-step explanation of how your chosen algorithm sorts the array: [42, 17, 29, 8, 35]\n",
    "<br><br>\n",
    "- Calculate how many comparisons and swaps your algorithm needs to sort this array\n",
    "<br><br>\n",
    "- **What is the best case and worst case time complexity of your chosen algorithm?**\n",
    "\n",
    "# bubble sort"
   ]
  },
  {
   "cell_type": "code",
   "execution_count": null,
   "metadata": {
    "vscode": {
     "languageId": "java"
    }
   },
   "outputs": [],
   "source": [
    "import java.util.Arrays;\n",
    "\n",
    "public class BubbleSortExample {\n",
    "    public static void main(String[] args) {\n",
    "        int[] arr = {42, 17, 29, 8, 35};\n",
    "        \n",
    "        bubbleSort(arr);\n",
    "        \n",
    "        System.out.println(\"Sorted array: \" + Arrays.toString(arr));\n",
    "    }\n",
    "    \n",
    "    public static void bubbleSort(int[] arr) {\n",
    "        int n = arr.length;\n",
    "        for (int i = 0; i < n - 1; i++) {\n",
    "            boolean swapped = false;\n",
    "            for (int j = 0; j < n - 1 - i; j++) {\n",
    "                if (arr[j] > arr[j + 1]) {\n",
    "                    int temp = arr[j];\n",
    "                    arr[j] = arr[j + 1];\n",
    "                    arr[j + 1] = temp;\n",
    "                    swapped = true;\n",
    "                }\n",
    "            }\n",
    "            if (!swapped) {\n",
    "                break;\n",
    "            }\n",
    "        }\n",
    "    }\n",
    "}\n"
   ]
  },
  {
   "cell_type": "markdown",
   "metadata": {},
   "source": [
    "<img width=\"492\" alt=\"Image\" src=\"https://github.com/user-attachments/assets/e230d18a-221b-45ed-bb93-3f5b88825e5c\" />\n",
    "\n",
    "<img width=\"384\" alt=\"Image\" src=\"https://github.com/user-attachments/assets/708940d7-a8f8-43cc-9f1f-7d75c8efc8c1\" />\n"
   ]
  },
  {
   "cell_type": "markdown",
   "metadata": {},
   "source": [
    "For the array [42, 17, 29, 8, 35], Bubble Sort does the following:\n",
    "\n",
    "- Pass 1: 4 comparisons, 4 swaps\n",
    "\n",
    "- Pass 2: 4 comparisons, 1 swap\n",
    "\n",
    "- Pass 3: 4 comparisons, 1 swap\n",
    "\n",
    "- Pass 4: 4 comparisons, 0 swaps\n",
    "\n",
    "If we perform exactly 4 passes (the typical n-1 passes for an array of length 5):\n",
    "\n",
    "- Total comparisons = 4 + 4 + 4 + 4 = 16\n",
    "\n",
    "- Total swaps = 4 + 1 + 1 + 0 = 6\n",
    "\n",
    "Worst Case Time Complexity: \n",
    "O(n^2)\n",
    "\n",
    "- Occurs when the array is in reverse order or when every pass needs to do a swap.\n",
    "\n",
    "Best Case Time Complexity: \n",
    "O(n)\n",
    "\n",
    "- Occurs if the array is already sorted, because you only need one pass to confirm no swaps happen, and then the algorithm ends."
   ]
  }
 ],
 "metadata": {
  "kernelspec": {
   "display_name": "Java",
   "language": "java",
   "name": "java"
  },
  "language_info": {
   "codemirror_mode": "java",
   "file_extension": ".jshell",
   "mimetype": "text/x-java-source",
   "name": "Java",
   "pygments_lexer": "java",
   "version": "17.0.6+10-LTS"
  }
 },
 "nbformat": 4,
 "nbformat_minor": 2
}
