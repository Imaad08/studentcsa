{
 "cells": [
  {
   "cell_type": "raw",
   "metadata": {
    "vscode": {
     "languageId": "raw"
    }
   },
   "source": [
    "---\n",
    "layout: post\n",
    "toc: true\n",
    "title: Unit 8 - 2D Arrays Accessing and Updating\n",
    "description: 2D Arrays Lesson\n",
    "authors: Anusha Khobare\n",
    "categories: [AP CSA]\n",
    "type: ccc\n",
    "permalink: /unit8lesson-p1-accessing-updating\n",
    "menu: nav/CSA_Units/csa_unit8_p1.html\n",
    "---"
   ]
  },
  {
   "cell_type": "markdown",
   "metadata": {},
   "source": [
    "# Navigation\n",
    "- [Home]({{site.baseurl}}/unit8lesson-p1)\n",
    "- [Declaring and Initializing]({{site.baseurl}}/unit8lesson-p1-declare-initialize)\n",
    "- [Accessing and Updating]({{site.baseurl}}/unit8lesson-p1-accessing-updating)\n",
    "- [Traversing]({{site.baseurl}}/unit8lesson-p1-traversing)\n",
    "- [Algorithims]({{site.baseurl}}/unit8lesson-p1-algorithms)\n"
   ]
  },
  {
   "cell_type": "markdown",
   "metadata": {},
   "source": [
    "## Accessing and updating the values of a 2D array\n",
    "In Java, accessing and updating values in a 2D array is done using the row and column indices. The general format is:\n",
    "\n",
    "~~~\n",
    "- **Accessing a value**: array[row][column]\n",
    "- **Updating a value**: array[row][column] = newValue;\n",
    "~~~\n",
    "\n",
    "![image](https://github.com/user-attachments/assets/b1f79b97-f81b-4ea5-951d-5c098fae0767)\n"
   ]
  },
  {
   "cell_type": "markdown",
   "metadata": {},
   "source": [
    "### Popcorn Hack 1 (Part 2)\n",
    "- **Update the values of the array, you made in part 1 to the group members in another group**\n",
    "- Ex: [(Tanav, Aidan)], [(Sri, Saathvik)]"
   ]
  },
  {
   "cell_type": "code",
   "execution_count": 1,
   "metadata": {
    "vscode": {
     "languageId": "java"
    }
   },
   "outputs": [],
   "source": [
    "// Method 1: All in one\n",
    "String[][] group1 = {\n",
    "    {\"Tanav\", \"Aidan\"},\n",
    "    {\"Sri\", \"Saathvik\"}\n",
    "};\n",
    "\n",
    "// Method 2: Empty array and manual input with indexes\n",
    "String[][] group2 = new String[2][2];\n",
    "group2[0][0] = \"Tanav\";\n",
    "group2[0][1] = \"Aidan\";\n",
    "group2[1][0] = \"Sri\";\n",
    "group2[1][1] = \"Saathvik\";\n",
    "\n",
    "// Method 3: Nested For-Loop\n",
    "String[][] group3 = new String[2][2];\n",
    "String[] names = {\"Tanav\", \"Aidan\", \"Sri\", \"Saathvik\"};\n",
    "int index = 0;\n",
    "for (int i = 0; i < group3.length; i++) {\n",
    "    for (int j = 0; j < group3[i].length; j++) {\n",
    "        group3[i][j] = names[index++];\n",
    "    }\n",
    "}"
   ]
  }
 ],
 "metadata": {
  "kernelspec": {
   "display_name": "Java",
   "language": "java",
   "name": "java"
  },
  "language_info": {
   "codemirror_mode": "java",
   "file_extension": ".jshell",
   "mimetype": "text/x-java-source",
   "name": "Java",
   "pygments_lexer": "java",
   "version": "17.0.12+8-LTS-286"
  },
  "orig_nbformat": 4
 },
 "nbformat": 4,
 "nbformat_minor": 2
}
